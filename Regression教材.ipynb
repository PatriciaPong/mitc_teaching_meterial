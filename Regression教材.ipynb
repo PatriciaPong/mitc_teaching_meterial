{
 "cells": [
  {
   "cell_type": "markdown",
   "metadata": {},
   "source": [
    "# Regression\n",
    "找出一條最能代表所有觀測資料的線  \n",
    "你問，未來不做統計，那學這個線幹嘛？ 可以用來預測！  \n",
    "根據歷史資料，統整出一個方程式，把未知的情況帶進去，就會得到預測的結果"
   ]
  },
  {
   "cell_type": "markdown",
   "metadata": {},
   "source": [
    "## 如果你對迴歸這東西很模糊，請看看這段\n",
    "迴歸簡單來說，是從好幾個因素，推斷他們跟結果的```相關性```  \n",
    "為了方便分析，我們必須將這一堆因素、結果，以及相關性全部```量化```，也就是都用成數學的形式  \n",
    "透過迴歸，我們可以```用因素們解釋結果```  \n",
    "### 以下長篇大論，看得累的，可以用聽的\n",
    "一般來說，我們拿到資料，可以觀察到結果(y)，以及因素(x)  \n",
    "而B<sub>0</sub>和B<sub>1</sub>這兩個將結果與因素連結在一起的係數/常數，是沒有人知道、而且不是隨機的數字（下標不同，數字可能不同）  \n",
    "而ε是error，我喜歡叫它誤差，隨機而且不能觀測\n",
    "#### 迴歸假設：讓你判斷迴歸模型適不適合本次資料分析的東西\n",
    "y = B<sub>0</sub> +B<sub>1</sub>x + ε  \n",
    "而針對上述變數的假設如下：\n",
    "- x、y都是常態分布\n",
    "- ε的平均是0，且為常態分布\n",
    "- Cov(ε,x) = 0 <-x跟ε互相獨立  \n",
    "最後兩項是**高斯-馬可夫定理 (Gauss-Markov Theorem)** 的條件，有興趣可以自己去翻一下  \n",
    "\n",
    "但在統計學上，我們上述的東西，都要用估計的，所以你也會看到這種寫法：  \n",
    "$\\hat{y}$ = b<sub>0</sub> + b<sub>1</sub>x + e  \n",
    "#### 估計b的方法：隨著迴歸假設符合的情況，會用不同的方式估計b\n",
    "主流方法有兩種：\n",
    "- lease square error(LSE): 能使歷史資料的y跟估計y，兩者差的平方最小化的b組合，即是我們估計的b  \n",
    "- lease absolute error(LAE): 能使歷史資料的y跟估計y，兩者差的絕對值最小的b組合，即是我們估計的b\n",
    "\n",
    "### 總結\n",
    "我們這次只會用到LSE，因為numpy.random.randn正好可以符合高斯定理，用LSE基本上就是最佳估計了  \n",
    "*（欸？為甚麼符合高斯定理？快去翻翻numpy的講義，裏頭有提到randn的生成）*  \n",
    "至於以後實務上的迴歸模型調整，會用到大量的統計學領域知識，這邊就不細講，有興趣的同學可以修統計學、數理統計學、迴歸分析等"
   ]
  },
  {
   "cell_type": "markdown",
   "metadata": {},
   "source": [
    "### 沒有歷史資料可以練習？我們自己生！"
   ]
  },
  {
   "cell_type": "code",
   "execution_count": 79,
   "metadata": {},
   "outputs": [],
   "source": [
    "import pandas as pd\n",
    "import numpy as np\n",
    "import matplotlib.pyplot as plt\n",
    "#想取名的，可以自己在import的module後面，用as自己命名"
   ]
  },
  {
   "cell_type": "code",
   "execution_count": 80,
   "metadata": {},
   "outputs": [
    {
     "data": {
      "text/plain": [
       "(array([ 4.,  5.,  7., 21., 12., 14., 22., 10.,  3.,  2.]),\n",
       " array([-21.85183986, -17.16639822, -12.48095658,  -7.79551493,\n",
       "         -3.11007329,   1.57536835,   6.26081   ,  10.94625164,\n",
       "         15.63169328,  20.31713492,  25.00257657]),\n",
       " <a list of 10 Patch objects>)"
      ]
     },
     "execution_count": 80,
     "metadata": {},
     "output_type": "execute_result"
    },
    {
     "data": {
      "image/png": "[encoded data removed]",
      "text/plain": [
       "<Figure size 432x288 with 1 Axes>"
      ]
     },
     "metadata": {
      "needs_background": "light"
     },
     "output_type": "display_data"
    }
   ],
   "source": [
    "#快速生成資料！\n",
    "X = np.random.randn(100)*10\n",
    "#看看生出來的資料長怎樣\n",
    "plt.hist(X) #因為資料很少，但基本上是符合常態分布的"
   ]
  },
  {
   "cell_type": "code",
   "execution_count": 81,
   "metadata": {},
   "outputs": [
    {
     "data": {
      "text/plain": [
       "array([ 31.97010161,  47.16121841,   8.42606394, -10.04927807,\n",
       "        39.39566862,  56.93908562,  10.67565066,  29.85988099,\n",
       "        -6.74195776,  30.54479394,  54.16420069,   7.19797439,\n",
       "        27.05737363,  10.18286201,  60.62406146,  36.94946568,\n",
       "         1.40645236, -29.90544328,   3.83802113,  47.48427498,\n",
       "        44.84992341,  20.76533763,  25.39138942, -30.25923168,\n",
       "        25.56947871,  24.06024088,  12.07504704,  15.3127448 ,\n",
       "        43.45652035,  40.6383605 ,  40.9834524 ,  40.18169049,\n",
       "        47.18217432,  41.56308953,  35.5228455 ,   5.54467199,\n",
       "       -10.495619  ,  46.73511539,   5.71455889,  36.7450145 ,\n",
       "        38.41867998,  63.86674419,  10.85315772,  15.75587115,\n",
       "       -13.62595279,  17.13264861,  47.63644577,  -3.01958512,\n",
       "        29.95295374,   4.27201256, -21.24758284,  49.11267566,\n",
       "        32.71650231,  27.44179204, -12.94078133,  77.5059261 ,\n",
       "       -21.20242255,  19.32328672,   9.17126517,  -6.29990005,\n",
       "        37.08756908,  -7.45481129,  14.47536796,  14.72755686,\n",
       "         9.2964176 ,  28.8829114 ,  44.58455077,  -8.38244825,\n",
       "         2.01225534,   4.43297537,  12.52458544,  16.85491132,\n",
       "       -10.400125  ,   8.98745068,   7.34433287,  29.20306044,\n",
       "        41.74535271,   4.97545878,  21.11288413,  42.38829826,\n",
       "        42.3799824 ,  35.61961025,   7.09194011,  45.29489431,\n",
       "        54.52810237,  39.9887435 ,  12.37074957,  41.92075917,\n",
       "         2.78227812,  50.81421639,  31.24812611,  30.64119349,\n",
       "        36.11907907,  42.52880897,  73.9125429 ,  20.31922099,\n",
       "         6.37285368,  18.55804126,  34.5128851 ,  15.95635688])"
      ]
     },
     "execution_count": 81,
     "metadata": {},
     "output_type": "execute_result"
    }
   ],
   "source": [
    "#透過上面的X，我們生成一個結果Y\n",
    "Y = 2.3*X + 20 #數字自己隨便玩，這邊先練線性，盡量不要用一些奇怪的手段（指數、分母）\n",
    "#看看Y\n",
    "Y"
   ]
  },
  {
   "cell_type": "code",
   "execution_count": 82,
   "metadata": {},
   "outputs": [
    {
     "data": {
      "text/plain": [
       "[<matplotlib.lines.Line2D at 0x2afdae56278>]"
      ]
     },
     "execution_count": 82,
     "metadata": {},
     "output_type": "execute_result"
    },
    {
     "data": {
      "image/png": "[encoded data removed]",
      "text/plain": [
       "<Figure size 432x288 with 1 Axes>"
      ]
     },
     "metadata": {
      "needs_background": "light"
     },
     "output_type": "display_data"
    }
   ],
   "source": [
    "#既然是線性，我們畫看看他是不是線性\n",
    "plt.plot(X,Y)\n",
    "#如果你畫的不是直線，一定是你對於一元一次式有什麼誤解，快去查查甚麼是線性"
   ]
  },
  {
   "cell_type": "code",
   "execution_count": 83,
   "metadata": {},
   "outputs": [
    {
     "data": {
      "text/plain": [
       "array([ 0.59670989, -1.43375273, -1.11906324, -1.34435252,  0.24886943,\n",
       "        1.76698592,  1.12590632,  0.77036012, -0.43817781,  0.82451796,\n",
       "       -0.06139739,  0.28982473, -1.15383787, -0.34287476, -0.99313545,\n",
       "        0.35339962,  0.09008598,  0.51854533,  0.79403339, -0.56186992,\n",
       "        0.79656845, -0.05447119, -0.03174697, -0.23827584,  0.48064514,\n",
       "       -0.65514165,  0.21506154, -0.53020926,  0.57199093,  0.43706241,\n",
       "       -0.55186376,  0.53411609, -0.11449768, -0.33361069, -0.92645316,\n",
       "       -1.09615362,  0.27842697,  0.44366348,  1.23807994,  0.36719144,\n",
       "        0.05619552,  0.10626559, -0.26936186,  0.90787319, -0.02278833,\n",
       "        0.83487942,  2.55640268,  1.00228302,  0.42792394, -0.51001986,\n",
       "        0.40205989, -1.74741763,  0.10339496,  0.19239454,  2.47012929,\n",
       "       -1.22319331, -0.49413057, -0.37132642,  1.00687828, -0.38915338,\n",
       "       -1.00967602,  2.08632539, -1.02297982, -0.3632165 ,  1.20249517,\n",
       "       -0.15052905, -0.75204343,  1.70337575,  0.37766115,  0.95480516,\n",
       "        1.91823636, -1.17135502,  0.75761626,  1.72149675, -0.94671641,\n",
       "       -1.21391325,  0.02094282,  0.48306984,  0.59962355,  0.37982471,\n",
       "        0.79241151,  0.5214996 ,  1.94749145,  0.34693618, -0.77474689,\n",
       "        0.6396897 ,  0.67810722,  2.2762532 ,  0.09453678, -0.51971418,\n",
       "       -1.38674477, -0.73326525,  0.21454862, -0.11352993, -0.50276638,\n",
       "       -0.58982999, -0.79706398, -0.46698863,  0.4002204 ,  0.85667842])"
      ]
     },
     "execution_count": 83,
     "metadata": {},
     "output_type": "execute_result"
    }
   ],
   "source": [
    "#如果你真實世界蒐集的資料都長這樣，那你一定跟我活在不同時空\n",
    "#賦予他一些\"真實性\"、\"不確定性\"，所以我們要加一點亂源\n",
    "noise = np.random.randn(100) #每一個Y，隨機給他一個數字，讓他不完全落在線上\n",
    "#大多數程式的random，都是從-1~1之間隨機生成數字\n",
    "#看看noise長怎樣\n",
    "noise"
   ]
  },
  {
   "cell_type": "code",
   "execution_count": 84,
   "metadata": {},
   "outputs": [],
   "source": [
    "Y_noise = 2.3*X + 20 + 15*noise \n",
    "#記得，X的係數跟常數要跟Y的長一樣，不然就不是\"加了一點亂數\"，而是根本不同關係了"
   ]
  },
  {
   "cell_type": "code",
   "execution_count": 85,
   "metadata": {},
   "outputs": [
    {
     "data": {
      "text/plain": [
       "<matplotlib.collections.PathCollection at 0x2afdaea4588>"
      ]
     },
     "execution_count": 85,
     "metadata": {},
     "output_type": "execute_result"
    },
    {
     "data": {
      "image/png": "[encoded data removed]",
      "text/plain": [
       "<Figure size 432x288 with 1 Axes>"
      ]
     },
     "metadata": {
      "needs_background": "light"
     },
     "output_type": "display_data"
    }
   ],
   "source": [
    "plt.scatter(X,Y_noise)\n",
    "#回憶一下，為什麼這邊用scatter，上面用plot"
   ]
  },
  {
   "cell_type": "markdown",
   "metadata": {},
   "source": [
    "#### 現實的數據就是長這樣，散亂，看起來又好像有一點趨勢\n",
    "#### 有時候他看起來不會像是一條左下到右上的線"
   ]
  },
  {
   "cell_type": "code",
   "execution_count": 86,
   "metadata": {},
   "outputs": [
    {
     "data": {
      "text/plain": [
       "<matplotlib.collections.PathCollection at 0x2afdaefe908>"
      ]
     },
     "execution_count": 86,
     "metadata": {},
     "output_type": "execute_result"
    },
    {
     "data": {
      "image/png": "[encoded data removed]",
      "text/plain": [
       "<Figure size 432x288 with 1 Axes>"
      ]
     },
     "metadata": {
      "needs_background": "light"
     },
     "output_type": "display_data"
    }
   ],
   "source": [
    "Y_noise = -0.3*X + 60 + 40*noise\n",
    "plt.scatter(X,Y_noise)"
   ]
  },
  {
   "cell_type": "markdown",
   "metadata": {},
   "source": [
    "### 如果剛剛對X亂來，讓他跟Y看起來不是一條線會怎樣？"
   ]
  },
  {
   "cell_type": "code",
   "execution_count": 87,
   "metadata": {
    "scrolled": true
   },
   "outputs": [
    {
     "data": {
      "text/plain": [
       "array([ -2.91964457,  -8.92815408,   0.39115018,   2.80234234,\n",
       "        -2.29262773,  -7.11489022,   1.02308863,  -3.29125481,\n",
       "         1.18394042,  -5.85399395,  -0.14604135,   4.48640166,\n",
       "         4.58820961,   7.3358695 ,  -2.44855534, -11.65661412,\n",
       "         6.73312077,   3.35852756,   5.68837468,  -3.2744938 ,\n",
       "         4.32610847,   3.09277402,  -7.13532632,  -0.40314653,\n",
       "         2.12470354,  -0.51796845,   3.69210669,  -8.52607134,\n",
       "         1.08889166,   7.4505767 ,   8.90493393,   1.81290737,\n",
       "         3.19400103,   1.61870887,  -2.00862212,   7.37043125,\n",
       "         5.31872409,   1.84864339,   1.65150548,  -8.0493286 ,\n",
       "         1.61366011,  -2.95502179,   6.48698616,   2.24761356,\n",
       "        -1.69803305,  -4.74406509,  -4.97670411,  -0.82766843,\n",
       "        11.14595556,  -5.633415  ,  -2.08096174,   5.75159612,\n",
       "        -0.49718576,  -5.05479896,   1.73294598,  -4.17359952,\n",
       "        -9.66089691,  -1.44013949,   1.68508952,   2.59519128,\n",
       "        -6.60916812,  -5.13177818,   6.37834033,   4.84932844,\n",
       "        -9.05975883,   1.71959249,  -4.3083287 ,   1.66691453,\n",
       "        -2.0503338 ,  -2.20657319,   1.17621889,  -5.54213775,\n",
       "        -2.54108346,   1.48463871,   0.10438361,  -0.54401511,\n",
       "        -0.15572048,  -2.80590238,  -3.0525925 ,  -9.99975009,\n",
       "         1.74303802,  -5.39565396,   2.84928428,   2.87134093,\n",
       "         2.53238512,   8.21950412,  -4.74269198,  -7.28193325,\n",
       "         6.27634367,  -1.72424806,   5.77890263,   8.52888067,\n",
       "         2.44008464,  -4.13155857,   4.11828899,   0.54804197,\n",
       "         9.0609656 ,   2.46076636,  -2.2469454 ,  -0.23705684])"
      ]
     },
     "execution_count": 87,
     "metadata": {},
     "output_type": "execute_result"
    }
   ],
   "source": [
    "#如果你嫌原本的X過氣了，想換新的，來，我們再複習一次\n",
    "X = np.random.randn(100)*5\n",
    "X"
   ]
  },
  {
   "cell_type": "code",
   "execution_count": 88,
   "metadata": {
    "scrolled": true
   },
   "outputs": [
    {
     "data": {
      "text/plain": [
       "array([8.52432441e+00, 7.97119353e+01, 1.52998466e-01, 7.85312259e+00,\n",
       "       5.25614191e+00, 5.06216628e+01, 1.04671035e+00, 1.08323583e+01,\n",
       "       1.40171491e+00, 3.42692451e+01, 2.13280765e-02, 2.01277999e+01,\n",
       "       2.10516674e+01, 5.38149813e+01, 5.99542325e+00, 1.35876653e+02,\n",
       "       4.53349153e+01, 1.12797074e+01, 3.23576065e+01, 1.07223097e+01,\n",
       "       1.87152145e+01, 9.56525116e+00, 5.09128816e+01, 1.62527127e-01,\n",
       "       4.51436514e+00, 2.68291314e-01, 1.36316518e+01, 7.26938925e+01,\n",
       "       1.18568505e+00, 5.55110932e+01, 7.92978483e+01, 3.28663312e+00,\n",
       "       1.02016426e+01, 2.62021842e+00, 4.03456280e+00, 5.43232568e+01,\n",
       "       2.82888259e+01, 3.41748237e+00, 2.72747036e+00, 6.47916908e+01,\n",
       "       2.60389894e+00, 8.73215380e+00, 4.20809894e+01, 5.05176670e+00,\n",
       "       2.88331625e+00, 2.25061536e+01, 2.47675838e+01, 6.85035024e-01,\n",
       "       1.24232325e+02, 3.17353645e+01, 4.33040174e+00, 3.30808580e+01,\n",
       "       2.47193678e-01, 2.55509926e+01, 3.00310176e+00, 1.74189329e+01,\n",
       "       9.33329290e+01, 2.07400176e+00, 2.83952670e+00, 6.73501777e+00,\n",
       "       4.36811032e+01, 2.63351473e+01, 4.06832253e+01, 2.35159863e+01,\n",
       "       8.20792300e+01, 2.95699832e+00, 1.85616962e+01, 2.77860406e+00,\n",
       "       4.20386870e+00, 4.86896525e+00, 1.38349087e+00, 3.07152908e+01,\n",
       "       6.45710514e+00, 2.20415211e+00, 1.08959386e-02, 2.95952437e-01,\n",
       "       2.42488678e-02, 7.87308815e+00, 9.31832098e+00, 9.99950019e+01,\n",
       "       3.03818154e+00, 2.91130816e+01, 8.11842093e+00, 8.24459871e+00,\n",
       "       6.41297438e+00, 6.75602480e+01, 2.24931272e+01, 5.30265519e+01,\n",
       "       3.93924899e+01, 2.97303137e+00, 3.33957156e+01, 7.27418055e+01,\n",
       "       5.95401304e+00, 1.70697762e+01, 1.69603042e+01, 3.00350000e-01,\n",
       "       8.21010977e+01, 6.05537110e+00, 5.04876361e+00, 5.61959473e-02])"
      ]
     },
     "execution_count": 88,
     "metadata": {},
     "output_type": "execute_result"
    }
   ],
   "source": [
    "np.square(X) #如果你忘記**了，np也有平方喔"
   ]
  },
  {
   "cell_type": "code",
   "execution_count": 89,
   "metadata": {},
   "outputs": [
    {
     "data": {
      "text/plain": [
       "array([8.52432441e+00, 7.97119353e+01, 1.52998466e-01, 7.85312259e+00,\n",
       "       5.25614191e+00, 5.06216628e+01, 1.04671035e+00, 1.08323583e+01,\n",
       "       1.40171491e+00, 3.42692451e+01, 2.13280765e-02, 2.01277999e+01,\n",
       "       2.10516674e+01, 5.38149813e+01, 5.99542325e+00, 1.35876653e+02,\n",
       "       4.53349153e+01, 1.12797074e+01, 3.23576065e+01, 1.07223097e+01,\n",
       "       1.87152145e+01, 9.56525116e+00, 5.09128816e+01, 1.62527127e-01,\n",
       "       4.51436514e+00, 2.68291314e-01, 1.36316518e+01, 7.26938925e+01,\n",
       "       1.18568505e+00, 5.55110932e+01, 7.92978483e+01, 3.28663312e+00,\n",
       "       1.02016426e+01, 2.62021842e+00, 4.03456280e+00, 5.43232568e+01,\n",
       "       2.82888259e+01, 3.41748237e+00, 2.72747036e+00, 6.47916908e+01,\n",
       "       2.60389894e+00, 8.73215380e+00, 4.20809894e+01, 5.05176670e+00,\n",
       "       2.88331625e+00, 2.25061536e+01, 2.47675838e+01, 6.85035024e-01,\n",
       "       1.24232325e+02, 3.17353645e+01, 4.33040174e+00, 3.30808580e+01,\n",
       "       2.47193678e-01, 2.55509926e+01, 3.00310176e+00, 1.74189329e+01,\n",
       "       9.33329290e+01, 2.07400176e+00, 2.83952670e+00, 6.73501777e+00,\n",
       "       4.36811032e+01, 2.63351473e+01, 4.06832253e+01, 2.35159863e+01,\n",
       "       8.20792300e+01, 2.95699832e+00, 1.85616962e+01, 2.77860406e+00,\n",
       "       4.20386870e+00, 4.86896525e+00, 1.38349087e+00, 3.07152908e+01,\n",
       "       6.45710514e+00, 2.20415211e+00, 1.08959386e-02, 2.95952437e-01,\n",
       "       2.42488678e-02, 7.87308815e+00, 9.31832098e+00, 9.99950019e+01,\n",
       "       3.03818154e+00, 2.91130816e+01, 8.11842093e+00, 8.24459871e+00,\n",
       "       6.41297438e+00, 6.75602480e+01, 2.24931272e+01, 5.30265519e+01,\n",
       "       3.93924899e+01, 2.97303137e+00, 3.33957156e+01, 7.27418055e+01,\n",
       "       5.95401304e+00, 1.70697762e+01, 1.69603042e+01, 3.00350000e-01,\n",
       "       8.21010977e+01, 6.05537110e+00, 5.04876361e+00, 5.61959473e-02])"
      ]
     },
     "execution_count": 89,
     "metadata": {},
     "output_type": "execute_result"
    }
   ],
   "source": [
    "X**2 #還記得這是什麼嗎？"
   ]
  },
  {
   "cell_type": "code",
   "execution_count": 90,
   "metadata": {},
   "outputs": [
    {
     "data": {
      "text/plain": [
       "<matplotlib.collections.PathCollection at 0x2afdaf68160>"
      ]
     },
     "execution_count": 90,
     "metadata": {},
     "output_type": "execute_result"
    },
    {
     "data": {
      "image/png": "[encoded data removed]",
      "text/plain": [
       "<Figure size 432x288 with 1 Axes>"
      ]
     },
     "metadata": {
      "needs_background": "light"
     },
     "output_type": "display_data"
    }
   ],
   "source": [
    "#一樣，我們來想想X跟Y的關係\n",
    "Y = np.square(X) + 10\n",
    "plt.scatter(X,Y)"
   ]
  },
  {
   "cell_type": "code",
   "execution_count": 91,
   "metadata": {},
   "outputs": [
    {
     "data": {
      "text/plain": [
       "<matplotlib.collections.PathCollection at 0x2afdafbc438>"
      ]
     },
     "execution_count": 91,
     "metadata": {},
     "output_type": "execute_result"
    },
    {
     "data": {
      "image/png": "[encoded data removed]",
      "text/plain": [
       "<Figure size 432x288 with 1 Axes>"
      ]
     },
     "metadata": {
      "needs_background": "light"
     },
     "output_type": "display_data"
    }
   ],
   "source": [
    "#那如果是X**2跟Y的關係呢\n",
    "plt.scatter(X**2,Y)"
   ]
  },
  {
   "cell_type": "code",
   "execution_count": 92,
   "metadata": {},
   "outputs": [
    {
     "data": {
      "text/plain": [
       "<matplotlib.collections.PathCollection at 0x2afdb051a90>"
      ]
     },
     "execution_count": 92,
     "metadata": {},
     "output_type": "execute_result"
    },
    {
     "data": {
      "image/png": "[encoded data removed]",
      "text/plain": [
       "<Figure size 432x288 with 2 Axes>"
      ]
     },
     "metadata": {
      "needs_background": "light"
     },
     "output_type": "display_data"
    }
   ],
   "source": [
    "#看樣子我們如果平方，他就不是線性的了，但是平方的X跟Y還是有線性關係\n",
    "#如果我們加上noise呢？\n",
    "Y_noise = np.square(X) + 10 + 20*np.random.randn(100)\n",
    "\n",
    "fig = plt.figure()\n",
    "ax_0 = fig.add_subplot(121)\n",
    "ax_1 = fig.add_subplot(122)\n",
    "ax_0.scatter(X**2,Y_noise)\n",
    "ax_1.scatter(X,Y_noise)"
   ]
  },
  {
   "cell_type": "markdown",
   "metadata": {},
   "source": [
    "### 小小觀念補充\n",
    "有人可能覺得，剛剛的U型線，看起來也是**線**，為甚麼他**不是線性**\n",
    "在數學上，**連成一條線**的，是**連續**，而**線性專指直線**"
   ]
  },
  {
   "cell_type": "markdown",
   "metadata": {},
   "source": [
    "## 試試看自己弄一筆假資料\n",
    "請注意以下條件：\n",
    "- ```線性```：x不可以有任何指數變化、x可以有係數、可以有常數等\n",
    "- ```自然/亂源/隨機性```：請給他一點noise，但注意noise的比重不要太重，不然你的資料的隨機性會太高，regression的結果會不太好看"
   ]
  },
  {
   "cell_type": "code",
   "execution_count": 93,
   "metadata": {},
   "outputs": [
    {
     "data": {
      "text/plain": [
       "<matplotlib.collections.PathCollection at 0x2afdb0a5cc0>"
      ]
     },
     "execution_count": 93,
     "metadata": {},
     "output_type": "execute_result"
    },
    {
     "data": {
      "image/png": "[encoded data removed]",
      "text/plain": [
       "<Figure size 432x288 with 1 Axes>"
      ]
     },
     "metadata": {
      "needs_background": "light"
     },
     "output_type": "display_data"
    }
   ],
   "source": [
    "X = np.random.randn(100)*10\n",
    "Y = 2.3*X + 20\n",
    "noise = np.random.randn(100)\n",
    "Y_noise = 2.3*X + 20 + 15*noise\n",
    "plt.scatter(X,Y_noise)"
   ]
  },
  {
   "cell_type": "code",
   "execution_count": 94,
   "metadata": {},
   "outputs": [],
   "source": [
    "#迴歸模型\n",
    "import statsmodels.api as sm"
   ]
  },
  {
   "cell_type": "code",
   "execution_count": 95,
   "metadata": {
    "scrolled": true
   },
   "outputs": [
    {
     "data": {
      "text/plain": [
       "array([[  1.        ,  -7.09787184],\n",
       "       [  1.        ,  -8.88741606],\n",
       "       [  1.        ,  -6.35891026],\n",
       "       [  1.        ,  12.40697518],\n",
       "       [  1.        ,  -5.10887054],\n",
       "       [  1.        ,  -9.25879125],\n",
       "       [  1.        ,  -3.07415222],\n",
       "       [  1.        ,  -5.27977527],\n",
       "       [  1.        ,  -8.03208064],\n",
       "       [  1.        , -19.95513567],\n",
       "       [  1.        ,  -0.8537405 ],\n",
       "       [  1.        ,   6.37127612],\n",
       "       [  1.        ,  -2.47239186],\n",
       "       [  1.        ,   3.73011044],\n",
       "       [  1.        ,   6.0641989 ],\n",
       "       [  1.        ,  -9.00219468],\n",
       "       [  1.        ,  -6.64820229],\n",
       "       [  1.        ,  -5.20848018],\n",
       "       [  1.        ,  -3.64332223],\n",
       "       [  1.        ,  -3.92190114],\n",
       "       [  1.        ,  12.58909423],\n",
       "       [  1.        ,  -3.27030887],\n",
       "       [  1.        ,  -2.48312933],\n",
       "       [  1.        ,  13.51831751],\n",
       "       [  1.        ,  -2.68787266],\n",
       "       [  1.        ,  13.24857838],\n",
       "       [  1.        ,  -1.40144967],\n",
       "       [  1.        ,  -0.19665   ],\n",
       "       [  1.        ,   2.6599123 ],\n",
       "       [  1.        ,  12.13568107],\n",
       "       [  1.        ,  -3.06096428],\n",
       "       [  1.        ,  13.38094817],\n",
       "       [  1.        ,  11.52381211],\n",
       "       [  1.        ,   2.6231382 ],\n",
       "       [  1.        ,   5.63476801],\n",
       "       [  1.        , -12.37107764],\n",
       "       [  1.        ,   9.90675205],\n",
       "       [  1.        ,  19.08155558],\n",
       "       [  1.        ,  15.85907298],\n",
       "       [  1.        ,   6.07584541],\n",
       "       [  1.        ,  17.09027479],\n",
       "       [  1.        ,   0.10527138],\n",
       "       [  1.        ,   8.90450786],\n",
       "       [  1.        ,   6.3897663 ],\n",
       "       [  1.        ,  15.64130771],\n",
       "       [  1.        ,  -3.54638703],\n",
       "       [  1.        , -12.06366171],\n",
       "       [  1.        ,   5.19072794],\n",
       "       [  1.        ,   0.35644243],\n",
       "       [  1.        ,  -4.73123898],\n",
       "       [  1.        ,  10.50386687],\n",
       "       [  1.        ,  -8.79944803],\n",
       "       [  1.        ,   6.72587017],\n",
       "       [  1.        , -22.51999698],\n",
       "       [  1.        ,   2.90702412],\n",
       "       [  1.        ,  -0.42405847],\n",
       "       [  1.        ,  -0.57143919],\n",
       "       [  1.        , -14.49650049],\n",
       "       [  1.        ,  -6.55681858],\n",
       "       [  1.        ,  -4.48600945],\n",
       "       [  1.        ,   2.24388082],\n",
       "       [  1.        ,  -7.02293139],\n",
       "       [  1.        ,   4.4540363 ],\n",
       "       [  1.        ,   8.08246578],\n",
       "       [  1.        , -11.42203198],\n",
       "       [  1.        ,  12.10590457],\n",
       "       [  1.        ,  12.88628318],\n",
       "       [  1.        ,  -2.13489965],\n",
       "       [  1.        ,  12.06300146],\n",
       "       [  1.        ,   6.28209434],\n",
       "       [  1.        , -16.0368842 ],\n",
       "       [  1.        , -26.07110222],\n",
       "       [  1.        , -17.44047841],\n",
       "       [  1.        ,  11.71468665],\n",
       "       [  1.        ,  -3.47064814],\n",
       "       [  1.        ,  -5.90583823],\n",
       "       [  1.        ,   3.04154491],\n",
       "       [  1.        , -12.15353609],\n",
       "       [  1.        ,   6.13678359],\n",
       "       [  1.        ,  -6.4584859 ],\n",
       "       [  1.        ,  -2.67171317],\n",
       "       [  1.        ,  17.9533666 ],\n",
       "       [  1.        ,   7.51950665],\n",
       "       [  1.        ,  11.98562311],\n",
       "       [  1.        , -10.57814909],\n",
       "       [  1.        ,  21.49944298],\n",
       "       [  1.        , -11.13177899],\n",
       "       [  1.        ,   6.17102841],\n",
       "       [  1.        , -15.81059015],\n",
       "       [  1.        ,  21.68672183],\n",
       "       [  1.        ,  -5.7608193 ],\n",
       "       [  1.        ,  20.93859152],\n",
       "       [  1.        ,  19.14448324],\n",
       "       [  1.        ,  -3.1013109 ],\n",
       "       [  1.        ,  -6.19752324],\n",
       "       [  1.        ,  -8.99738692],\n",
       "       [  1.        , -14.08936198],\n",
       "       [  1.        ,  -0.7026659 ],\n",
       "       [  1.        ,   1.73427179],\n",
       "       [  1.        ,   1.66344538]])"
      ]
     },
     "execution_count": 95,
     "metadata": {},
     "output_type": "execute_result"
    }
   ],
   "source": [
    "x_constant = sm.add_constant(X)\n",
    "x_constant"
   ]
  },
  {
   "cell_type": "code",
   "execution_count": 96,
   "metadata": {
    "scrolled": true
   },
   "outputs": [
    {
     "name": "stdout",
     "output_type": "stream",
     "text": [
      "                            OLS Regression Results                            \n",
      "==============================================================================\n",
      "Dep. Variable:                      y   R-squared:                       0.746\n",
      "Model:                            OLS   Adj. R-squared:                  0.744\n",
      "Method:                 Least Squares   F-statistic:                     288.5\n",
      "Date:                Sun, 05 Sep 2021   Prob (F-statistic):           5.87e-31\n",
      "Time:                        17:44:53   Log-Likelihood:                -405.88\n",
      "No. Observations:                 100   AIC:                             815.8\n",
      "Df Residuals:                      98   BIC:                             821.0\n",
      "Df Model:                           1                                         \n",
      "Covariance Type:            nonrobust                                         \n",
      "==============================================================================\n",
      "                 coef    std err          t      P>|t|      [0.025      0.975]\n",
      "------------------------------------------------------------------------------\n",
      "const         19.7534      1.417     13.937      0.000      16.941      22.566\n",
      "x1             2.3322      0.137     16.984      0.000       2.060       2.605\n",
      "==============================================================================\n",
      "Omnibus:                        3.509   Durbin-Watson:                   2.052\n",
      "Prob(Omnibus):                  0.173   Jarque-Bera (JB):                3.419\n",
      "Skew:                          -0.402   Prob(JB):                        0.181\n",
      "Kurtosis:                       2.582   Cond. No.                         10.3\n",
      "==============================================================================\n",
      "\n",
      "Warnings:\n",
      "[1] Standard Errors assume that the covariance matrix of the errors is correctly specified.\n"
     ]
    }
   ],
   "source": [
    "#Use LSE to estimate b\n",
    "results = sm.OLS(Y_noise,x_constant).fit()\n",
    "print(results.summary()) #這邊建議用print，比較方便看"
   ]
  },
  {
   "cell_type": "code",
   "execution_count": 97,
   "metadata": {},
   "outputs": [
    {
     "data": {
      "text/plain": [
       "[<matplotlib.lines.Line2D at 0x2afdaf687f0>]"
      ]
     },
     "execution_count": 97,
     "metadata": {},
     "output_type": "execute_result"
    },
    {
     "data": {
      "image/png": "[encoded data removed]",
      "text/plain": [
       "<Figure size 432x288 with 1 Axes>"
      ]
     },
     "metadata": {
      "needs_background": "light"
     },
     "output_type": "display_data"
    }
   ],
   "source": [
    "y_fitted = results.fittedvalues\n",
    "plt.scatter(X, Y_noise,color='green') #我們生成的自然資料\n",
    "plt.plot(X,Y,color='r') #我們預先設計的X、Y關係\n",
    "plt.plot(X,y_fitted,color='cyan') #透過LSE迴歸模型，在自然資料中找到的X、Y關係"
   ]
  },
  {
   "cell_type": "code",
   "execution_count": 98,
   "metadata": {},
   "outputs": [
    {
     "data": {
      "text/plain": [
       "0.7464189272741721"
      ]
     },
     "execution_count": 98,
     "metadata": {},
     "output_type": "execute_result"
    }
   ],
   "source": [
    "#但我們實際操作，沒人會告訴你那條紅色的線\n",
    "results.rsquared #告訴你R**2的值，越大代表這一個X越能夠解釋Y"
   ]
  },
  {
   "cell_type": "code",
   "execution_count": 99,
   "metadata": {},
   "outputs": [
    {
     "data": {
      "text/plain": [
       "array([19.7533736 ,  2.33224152])"
      ]
     },
     "execution_count": 99,
     "metadata": {},
     "output_type": "execute_result"
    }
   ],
   "source": [
    "results.params #告訴你那條藍色的線aka透過LSE估計出來的線，方程式的係數是多少\n",
    "#而這些係數的排列為[常數,第一個因素,第二個因素,第三個因素,...,第n個因素]進行排列"
   ]
  },
  {
   "cell_type": "markdown",
   "metadata": {},
   "source": [
    "### 小測驗\n",
    "試試看生成一個Y跟X<sup>2</sup>有關聯的自然資料，然後生成Y跟X透過LSE迴歸出來的summary，以及Y跟X<sup>2</sup>透過LSE迴歸出來的summary\n",
    "如果你還記得pandas的話，生成圖表，比較Y跟X以及Y跟X<sup>2</sup>的差別"
   ]
  },
  {
   "cell_type": "code",
   "execution_count": 100,
   "metadata": {},
   "outputs": [
    {
     "data": {
      "text/plain": [
       "<matplotlib.collections.PathCollection at 0x2afdb1a0ba8>"
      ]
     },
     "execution_count": 100,
     "metadata": {},
     "output_type": "execute_result"
    },
    {
     "data": {
      "image/png": "[encoded data removed]",
      "text/plain": [
       "<Figure size 432x288 with 1 Axes>"
      ]
     },
     "metadata": {
      "needs_background": "light"
     },
     "output_type": "display_data"
    }
   ],
   "source": [
    "X = np.random.randn(100)*5\n",
    "Y = 0.4*(X**2) + 50\n",
    "noise = np.random.randn(100)*10\n",
    "Y_noise = Y + noise\n",
    "plt.scatter(X,Y_noise)"
   ]
  },
  {
   "cell_type": "code",
   "execution_count": 101,
   "metadata": {},
   "outputs": [
    {
     "name": "stdout",
     "output_type": "stream",
     "text": [
      "                            OLS Regression Results                            \n",
      "==============================================================================\n",
      "Dep. Variable:                      y   R-squared:                       0.000\n",
      "Model:                            OLS   Adj. R-squared:                 -0.010\n",
      "Method:                 Least Squares   F-statistic:                   0.03060\n",
      "Date:                Sun, 05 Sep 2021   Prob (F-statistic):              0.862\n",
      "Time:                        17:44:54   Log-Likelihood:                -419.15\n",
      "No. Observations:                 100   AIC:                             842.3\n",
      "Df Residuals:                      98   BIC:                             847.5\n",
      "Df Model:                           1                                         \n",
      "Covariance Type:            nonrobust                                         \n",
      "==============================================================================\n",
      "                 coef    std err          t      P>|t|      [0.025      0.975]\n",
      "------------------------------------------------------------------------------\n",
      "const         60.4359      1.619     37.339      0.000      57.224      63.648\n",
      "x1             0.0538      0.308      0.175      0.862      -0.557       0.665\n",
      "==============================================================================\n",
      "Omnibus:                       10.236   Durbin-Watson:                   2.121\n",
      "Prob(Omnibus):                  0.006   Jarque-Bera (JB):               10.685\n",
      "Skew:                           0.648   Prob(JB):                      0.00478\n",
      "Kurtosis:                       3.942   Cond. No.                         5.27\n",
      "==============================================================================\n",
      "\n",
      "Warnings:\n",
      "[1] Standard Errors assume that the covariance matrix of the errors is correctly specified.\n"
     ]
    }
   ],
   "source": [
    "x_constant = sm.add_constant(X)\n",
    "x_results = sm.OLS(Y_noise,x_constant).fit()\n",
    "print(x_results.summary())"
   ]
  },
  {
   "cell_type": "code",
   "execution_count": 102,
   "metadata": {},
   "outputs": [
    {
     "name": "stdout",
     "output_type": "stream",
     "text": [
      "                            OLS Regression Results                            \n",
      "==============================================================================\n",
      "Dep. Variable:                      y   R-squared:                       0.612\n",
      "Model:                            OLS   Adj. R-squared:                  0.608\n",
      "Method:                 Least Squares   F-statistic:                     154.6\n",
      "Date:                Sun, 05 Sep 2021   Prob (F-statistic):           7.28e-22\n",
      "Time:                        17:44:54   Log-Likelihood:                -371.83\n",
      "No. Observations:                 100   AIC:                             747.7\n",
      "Df Residuals:                      98   BIC:                             752.9\n",
      "Df Model:                           1                                         \n",
      "Covariance Type:            nonrobust                                         \n",
      "==============================================================================\n",
      "                 coef    std err          t      P>|t|      [0.025      0.975]\n",
      "------------------------------------------------------------------------------\n",
      "const         50.4344      1.290     39.111      0.000      47.875      52.993\n",
      "x1             0.3623      0.029     12.433      0.000       0.304       0.420\n",
      "==============================================================================\n",
      "Omnibus:                        1.985   Durbin-Watson:                   1.950\n",
      "Prob(Omnibus):                  0.371   Jarque-Bera (JB):                1.413\n",
      "Skew:                          -0.245   Prob(JB):                        0.493\n",
      "Kurtosis:                       3.315   Cond. No.                         56.7\n",
      "==============================================================================\n",
      "\n",
      "Warnings:\n",
      "[1] Standard Errors assume that the covariance matrix of the errors is correctly specified.\n"
     ]
    }
   ],
   "source": [
    "x_square_constant = sm.add_constant(X**2)\n",
    "x_square_results = sm.OLS(Y_noise,x_square_constant).fit()\n",
    "print(x_square_results.summary())"
   ]
  },
  {
   "cell_type": "code",
   "execution_count": 103,
   "metadata": {},
   "outputs": [
    {
     "data": {
      "text/plain": [
       "[<matplotlib.lines.Line2D at 0x2afdb244fd0>]"
      ]
     },
     "execution_count": 103,
     "metadata": {},
     "output_type": "execute_result"
    },
    {
     "data": {
      "image/png": "[encoded data removed]",
      "text/plain": [
       "<Figure size 720x432 with 2 Axes>"
      ]
     },
     "metadata": {
      "needs_background": "light"
     },
     "output_type": "display_data"
    }
   ],
   "source": [
    "fig = plt.figure(figsize=(10, 6))\n",
    "ax_0 = fig.add_subplot(121)\n",
    "ax_1 = fig.add_subplot(122)\n",
    "\n",
    "ax_0.scatter(X,Y_noise,color='g')\n",
    "ax_0.scatter(X,Y,color='r')\n",
    "ax_0.plot(X,x_results.fittedvalues,color='c')\n",
    "\n",
    "ax_1.scatter(X**2,Y_noise,color='g')\n",
    "ax_1.scatter(X**2,Y,color='r')\n",
    "ax_1.plot(X**2,x_square_results.fittedvalues,color='c')"
   ]
  },
  {
   "cell_type": "code",
   "execution_count": 104,
   "metadata": {},
   "outputs": [
    {
     "data": {
      "text/plain": [
       "<matplotlib.collections.PathCollection at 0x2afdb416400>"
      ]
     },
     "execution_count": 104,
     "metadata": {},
     "output_type": "execute_result"
    },
    {
     "data": {
      "image/png": "[encoded data removed]",
      "text/plain": [
       "<Figure size 432x288 with 1 Axes>"
      ]
     },
     "metadata": {
      "needs_background": "light"
     },
     "output_type": "display_data"
    }
   ],
   "source": [
    "plt.scatter(X,Y_noise,color='g')\n",
    "plt.scatter(X,Y,color='r')\n",
    "plt.scatter(X,x_square_results.fittedvalues,color='c')"
   ]
  },
  {
   "cell_type": "markdown",
   "metadata": {},
   "source": [
    "## 實際應用嘗試"
   ]
  },
  {
   "cell_type": "code",
   "execution_count": 106,
   "metadata": {},
   "outputs": [
    {
     "data": {
      "text/html": [
       "<div>\n",
       "<style scoped>\n",
       "    .dataframe tbody tr th:only-of-type {\n",
       "        vertical-align: middle;\n",
       "    }\n",
       "\n",
       "    .dataframe tbody tr th {\n",
       "        vertical-align: top;\n",
       "    }\n",
       "\n",
       "    .dataframe thead th {\n",
       "        text-align: right;\n",
       "    }\n",
       "</style>\n",
       "<table border=\"1\" class=\"dataframe\">\n",
       "  <thead>\n",
       "    <tr style=\"text-align: right;\">\n",
       "      <th></th>\n",
       "      <th>DATE</th>\n",
       "      <th>FEDFUNDS</th>\n",
       "      <th>GDPPOT</th>\n",
       "      <th>GDPC1</th>\n",
       "      <th>SP500</th>\n",
       "      <th>GPDIC1</th>\n",
       "      <th>WEI</th>\n",
       "    </tr>\n",
       "  </thead>\n",
       "  <tbody>\n",
       "    <tr>\n",
       "      <th>0</th>\n",
       "      <td>2012-10-01</td>\n",
       "      <td>0.16</td>\n",
       "      <td>16850.14906</td>\n",
       "      <td>16239.138</td>\n",
       "      <td>1426.19</td>\n",
       "      <td>2624.905</td>\n",
       "      <td>2.10</td>\n",
       "    </tr>\n",
       "    <tr>\n",
       "      <th>1</th>\n",
       "      <td>2013-01-01</td>\n",
       "      <td>0.14</td>\n",
       "      <td>16921.81411</td>\n",
       "      <td>16382.964</td>\n",
       "      <td>1569.19</td>\n",
       "      <td>2722.778</td>\n",
       "      <td>1.70</td>\n",
       "    </tr>\n",
       "    <tr>\n",
       "      <th>2</th>\n",
       "      <td>2013-04-01</td>\n",
       "      <td>0.09</td>\n",
       "      <td>16994.85865</td>\n",
       "      <td>16403.180</td>\n",
       "      <td>1606.28</td>\n",
       "      <td>2753.237</td>\n",
       "      <td>2.32</td>\n",
       "    </tr>\n",
       "    <tr>\n",
       "      <th>3</th>\n",
       "      <td>2013-07-01</td>\n",
       "      <td>0.08</td>\n",
       "      <td>17068.55201</td>\n",
       "      <td>16531.685</td>\n",
       "      <td>1681.55</td>\n",
       "      <td>2859.751</td>\n",
       "      <td>2.30</td>\n",
       "    </tr>\n",
       "    <tr>\n",
       "      <th>4</th>\n",
       "      <td>2013-10-01</td>\n",
       "      <td>0.09</td>\n",
       "      <td>17143.44149</td>\n",
       "      <td>16663.649</td>\n",
       "      <td>1848.36</td>\n",
       "      <td>2870.127</td>\n",
       "      <td>2.49</td>\n",
       "    </tr>\n",
       "    <tr>\n",
       "      <th>5</th>\n",
       "      <td>2014-01-01</td>\n",
       "      <td>0.08</td>\n",
       "      <td>17219.32626</td>\n",
       "      <td>16616.540</td>\n",
       "      <td>1872.34</td>\n",
       "      <td>2838.287</td>\n",
       "      <td>2.56</td>\n",
       "    </tr>\n",
       "    <tr>\n",
       "      <th>6</th>\n",
       "      <td>2014-04-01</td>\n",
       "      <td>0.10</td>\n",
       "      <td>17296.15209</td>\n",
       "      <td>16841.475</td>\n",
       "      <td>1960.23</td>\n",
       "      <td>2958.068</td>\n",
       "      <td>2.08</td>\n",
       "    </tr>\n",
       "    <tr>\n",
       "      <th>7</th>\n",
       "      <td>2014-07-01</td>\n",
       "      <td>0.09</td>\n",
       "      <td>17374.23266</td>\n",
       "      <td>17047.098</td>\n",
       "      <td>1972.29</td>\n",
       "      <td>3018.582</td>\n",
       "      <td>2.53</td>\n",
       "    </tr>\n",
       "    <tr>\n",
       "      <th>8</th>\n",
       "      <td>2014-10-01</td>\n",
       "      <td>0.12</td>\n",
       "      <td>17453.03407</td>\n",
       "      <td>17143.038</td>\n",
       "      <td>2058.90</td>\n",
       "      <td>3021.857</td>\n",
       "      <td>3.22</td>\n",
       "    </tr>\n",
       "    <tr>\n",
       "      <th>9</th>\n",
       "      <td>2015-01-01</td>\n",
       "      <td>0.11</td>\n",
       "      <td>17532.11313</td>\n",
       "      <td>17305.752</td>\n",
       "      <td>2067.89</td>\n",
       "      <td>3127.274</td>\n",
       "      <td>2.42</td>\n",
       "    </tr>\n",
       "    <tr>\n",
       "      <th>10</th>\n",
       "      <td>2015-04-01</td>\n",
       "      <td>0.13</td>\n",
       "      <td>17611.17808</td>\n",
       "      <td>17422.845</td>\n",
       "      <td>2063.11</td>\n",
       "      <td>3136.688</td>\n",
       "      <td>1.86</td>\n",
       "    </tr>\n",
       "    <tr>\n",
       "      <th>11</th>\n",
       "      <td>2015-07-01</td>\n",
       "      <td>0.14</td>\n",
       "      <td>17689.60324</td>\n",
       "      <td>17486.021</td>\n",
       "      <td>1920.03</td>\n",
       "      <td>3130.354</td>\n",
       "      <td>1.60</td>\n",
       "    </tr>\n",
       "    <tr>\n",
       "      <th>12</th>\n",
       "      <td>2015-10-01</td>\n",
       "      <td>0.24</td>\n",
       "      <td>17766.76000</td>\n",
       "      <td>17514.062</td>\n",
       "      <td>2043.94</td>\n",
       "      <td>3092.707</td>\n",
       "      <td>1.07</td>\n",
       "    </tr>\n",
       "    <tr>\n",
       "      <th>13</th>\n",
       "      <td>2016-01-01</td>\n",
       "      <td>0.36</td>\n",
       "      <td>17843.15000</td>\n",
       "      <td>17613.264</td>\n",
       "      <td>2059.74</td>\n",
       "      <td>3073.860</td>\n",
       "      <td>0.82</td>\n",
       "    </tr>\n",
       "    <tr>\n",
       "      <th>14</th>\n",
       "      <td>2016-04-01</td>\n",
       "      <td>0.38</td>\n",
       "      <td>17918.15000</td>\n",
       "      <td>17668.203</td>\n",
       "      <td>2098.86</td>\n",
       "      <td>3047.027</td>\n",
       "      <td>1.52</td>\n",
       "    </tr>\n",
       "    <tr>\n",
       "      <th>15</th>\n",
       "      <td>2016-07-01</td>\n",
       "      <td>0.40</td>\n",
       "      <td>17991.97000</td>\n",
       "      <td>17764.388</td>\n",
       "      <td>2168.27</td>\n",
       "      <td>3048.088</td>\n",
       "      <td>1.42</td>\n",
       "    </tr>\n",
       "    <tr>\n",
       "      <th>16</th>\n",
       "      <td>2016-10-01</td>\n",
       "      <td>0.54</td>\n",
       "      <td>18065.05000</td>\n",
       "      <td>17876.179</td>\n",
       "      <td>2238.83</td>\n",
       "      <td>3130.106</td>\n",
       "      <td>2.20</td>\n",
       "    </tr>\n",
       "    <tr>\n",
       "      <th>17</th>\n",
       "      <td>2017-01-01</td>\n",
       "      <td>0.79</td>\n",
       "      <td>18137.70000</td>\n",
       "      <td>17977.299</td>\n",
       "      <td>2362.72</td>\n",
       "      <td>3120.373</td>\n",
       "      <td>2.52</td>\n",
       "    </tr>\n",
       "    <tr>\n",
       "      <th>18</th>\n",
       "      <td>2017-04-01</td>\n",
       "      <td>1.04</td>\n",
       "      <td>18211.07000</td>\n",
       "      <td>18054.052</td>\n",
       "      <td>2423.41</td>\n",
       "      <td>3149.115</td>\n",
       "      <td>2.13</td>\n",
       "    </tr>\n",
       "    <tr>\n",
       "      <th>19</th>\n",
       "      <td>2017-07-01</td>\n",
       "      <td>1.15</td>\n",
       "      <td>18287.13000</td>\n",
       "      <td>18185.636</td>\n",
       "      <td>2519.36</td>\n",
       "      <td>3207.492</td>\n",
       "      <td>2.33</td>\n",
       "    </tr>\n",
       "    <tr>\n",
       "      <th>20</th>\n",
       "      <td>2017-10-01</td>\n",
       "      <td>1.30</td>\n",
       "      <td>18365.29000</td>\n",
       "      <td>18359.432</td>\n",
       "      <td>2673.61</td>\n",
       "      <td>3256.712</td>\n",
       "      <td>2.53</td>\n",
       "    </tr>\n",
       "    <tr>\n",
       "      <th>21</th>\n",
       "      <td>2018-01-01</td>\n",
       "      <td>1.51</td>\n",
       "      <td>18446.40000</td>\n",
       "      <td>18530.483</td>\n",
       "      <td>2640.87</td>\n",
       "      <td>3342.469</td>\n",
       "      <td>2.23</td>\n",
       "    </tr>\n",
       "    <tr>\n",
       "      <th>22</th>\n",
       "      <td>2018-04-01</td>\n",
       "      <td>1.82</td>\n",
       "      <td>18530.51000</td>\n",
       "      <td>18654.383</td>\n",
       "      <td>2718.37</td>\n",
       "      <td>3333.260</td>\n",
       "      <td>2.53</td>\n",
       "    </tr>\n",
       "    <tr>\n",
       "      <th>23</th>\n",
       "      <td>2018-07-01</td>\n",
       "      <td>1.95</td>\n",
       "      <td>18617.42000</td>\n",
       "      <td>18752.355</td>\n",
       "      <td>2913.98</td>\n",
       "      <td>3415.408</td>\n",
       "      <td>2.78</td>\n",
       "    </tr>\n",
       "    <tr>\n",
       "      <th>24</th>\n",
       "      <td>2018-10-01</td>\n",
       "      <td>2.27</td>\n",
       "      <td>18705.53000</td>\n",
       "      <td>18813.923</td>\n",
       "      <td>2506.85</td>\n",
       "      <td>3448.297</td>\n",
       "      <td>2.33</td>\n",
       "    </tr>\n",
       "    <tr>\n",
       "      <th>25</th>\n",
       "      <td>2019-01-01</td>\n",
       "      <td>2.41</td>\n",
       "      <td>18794.82000</td>\n",
       "      <td>18950.347</td>\n",
       "      <td>2834.40</td>\n",
       "      <td>3481.311</td>\n",
       "      <td>2.05</td>\n",
       "    </tr>\n",
       "    <tr>\n",
       "      <th>26</th>\n",
       "      <td>2019-04-01</td>\n",
       "      <td>2.38</td>\n",
       "      <td>18885.48000</td>\n",
       "      <td>19020.599</td>\n",
       "      <td>2941.76</td>\n",
       "      <td>3429.949</td>\n",
       "      <td>1.78</td>\n",
       "    </tr>\n",
       "    <tr>\n",
       "      <th>27</th>\n",
       "      <td>2019-07-01</td>\n",
       "      <td>2.04</td>\n",
       "      <td>18976.49000</td>\n",
       "      <td>19141.744</td>\n",
       "      <td>2976.74</td>\n",
       "      <td>3445.703</td>\n",
       "      <td>1.55</td>\n",
       "    </tr>\n",
       "    <tr>\n",
       "      <th>28</th>\n",
       "      <td>2019-10-01</td>\n",
       "      <td>1.55</td>\n",
       "      <td>19065.58000</td>\n",
       "      <td>19253.959</td>\n",
       "      <td>3230.78</td>\n",
       "      <td>3413.313</td>\n",
       "      <td>1.94</td>\n",
       "    </tr>\n",
       "    <tr>\n",
       "      <th>29</th>\n",
       "      <td>2020-01-01</td>\n",
       "      <td>0.65</td>\n",
       "      <td>19153.98000</td>\n",
       "      <td>19010.848</td>\n",
       "      <td>2584.59</td>\n",
       "      <td>3333.963</td>\n",
       "      <td>-7.04</td>\n",
       "    </tr>\n",
       "    <tr>\n",
       "      <th>30</th>\n",
       "      <td>2020-04-01</td>\n",
       "      <td>0.08</td>\n",
       "      <td>19242.04000</td>\n",
       "      <td>17302.511</td>\n",
       "      <td>3100.29</td>\n",
       "      <td>2849.792</td>\n",
       "      <td>-7.62</td>\n",
       "    </tr>\n",
       "    <tr>\n",
       "      <th>31</th>\n",
       "      <td>2020-07-01</td>\n",
       "      <td>0.09</td>\n",
       "      <td>19327.31000</td>\n",
       "      <td>18596.521</td>\n",
       "      <td>3363.00</td>\n",
       "      <td>3329.625</td>\n",
       "      <td>-4.90</td>\n",
       "    </tr>\n",
       "    <tr>\n",
       "      <th>32</th>\n",
       "      <td>2020-10-01</td>\n",
       "      <td>0.09</td>\n",
       "      <td>19414.16000</td>\n",
       "      <td>18794.426</td>\n",
       "      <td>3756.07</td>\n",
       "      <td>3539.863</td>\n",
       "      <td>-0.64</td>\n",
       "    </tr>\n",
       "  </tbody>\n",
       "</table>\n",
       "</div>"
      ],
      "text/plain": [
       "          DATE  FEDFUNDS       GDPPOT      GDPC1    SP500    GPDIC1   WEI\n",
       "0   2012-10-01      0.16  16850.14906  16239.138  1426.19  2624.905  2.10\n",
       "1   2013-01-01      0.14  16921.81411  16382.964  1569.19  2722.778  1.70\n",
       "2   2013-04-01      0.09  16994.85865  16403.180  1606.28  2753.237  2.32\n",
       "3   2013-07-01      0.08  17068.55201  16531.685  1681.55  2859.751  2.30\n",
       "4   2013-10-01      0.09  17143.44149  16663.649  1848.36  2870.127  2.49\n",
       "5   2014-01-01      0.08  17219.32626  16616.540  1872.34  2838.287  2.56\n",
       "6   2014-04-01      0.10  17296.15209  16841.475  1960.23  2958.068  2.08\n",
       "7   2014-07-01      0.09  17374.23266  17047.098  1972.29  3018.582  2.53\n",
       "8   2014-10-01      0.12  17453.03407  17143.038  2058.90  3021.857  3.22\n",
       "9   2015-01-01      0.11  17532.11313  17305.752  2067.89  3127.274  2.42\n",
       "10  2015-04-01      0.13  17611.17808  17422.845  2063.11  3136.688  1.86\n",
       "11  2015-07-01      0.14  17689.60324  17486.021  1920.03  3130.354  1.60\n",
       "12  2015-10-01      0.24  17766.76000  17514.062  2043.94  3092.707  1.07\n",
       "13  2016-01-01      0.36  17843.15000  17613.264  2059.74  3073.860  0.82\n",
       "14  2016-04-01      0.38  17918.15000  17668.203  2098.86  3047.027  1.52\n",
       "15  2016-07-01      0.40  17991.97000  17764.388  2168.27  3048.088  1.42\n",
       "16  2016-10-01      0.54  18065.05000  17876.179  2238.83  3130.106  2.20\n",
       "17  2017-01-01      0.79  18137.70000  17977.299  2362.72  3120.373  2.52\n",
       "18  2017-04-01      1.04  18211.07000  18054.052  2423.41  3149.115  2.13\n",
       "19  2017-07-01      1.15  18287.13000  18185.636  2519.36  3207.492  2.33\n",
       "20  2017-10-01      1.30  18365.29000  18359.432  2673.61  3256.712  2.53\n",
       "21  2018-01-01      1.51  18446.40000  18530.483  2640.87  3342.469  2.23\n",
       "22  2018-04-01      1.82  18530.51000  18654.383  2718.37  3333.260  2.53\n",
       "23  2018-07-01      1.95  18617.42000  18752.355  2913.98  3415.408  2.78\n",
       "24  2018-10-01      2.27  18705.53000  18813.923  2506.85  3448.297  2.33\n",
       "25  2019-01-01      2.41  18794.82000  18950.347  2834.40  3481.311  2.05\n",
       "26  2019-04-01      2.38  18885.48000  19020.599  2941.76  3429.949  1.78\n",
       "27  2019-07-01      2.04  18976.49000  19141.744  2976.74  3445.703  1.55\n",
       "28  2019-10-01      1.55  19065.58000  19253.959  3230.78  3413.313  1.94\n",
       "29  2020-01-01      0.65  19153.98000  19010.848  2584.59  3333.963 -7.04\n",
       "30  2020-04-01      0.08  19242.04000  17302.511  3100.29  2849.792 -7.62\n",
       "31  2020-07-01      0.09  19327.31000  18596.521  3363.00  3329.625 -4.90\n",
       "32  2020-10-01      0.09  19414.16000  18794.426  3756.07  3539.863 -0.64"
      ]
     },
     "execution_count": 106,
     "metadata": {},
     "output_type": "execute_result"
    }
   ],
   "source": [
    "df = pd.read_csv(\"fredgraph.csv\")\n",
    "df"
   ]
  },
  {
   "cell_type": "code",
   "execution_count": 107,
   "metadata": {},
   "outputs": [
    {
     "data": {
      "text/html": [
       "<div>\n",
       "<style scoped>\n",
       "    .dataframe tbody tr th:only-of-type {\n",
       "        vertical-align: middle;\n",
       "    }\n",
       "\n",
       "    .dataframe tbody tr th {\n",
       "        vertical-align: top;\n",
       "    }\n",
       "\n",
       "    .dataframe thead th {\n",
       "        text-align: right;\n",
       "    }\n",
       "</style>\n",
       "<table border=\"1\" class=\"dataframe\">\n",
       "  <thead>\n",
       "    <tr style=\"text-align: right;\">\n",
       "      <th></th>\n",
       "      <th>FEDFUNDS</th>\n",
       "      <th>GDPPOT</th>\n",
       "      <th>GDPC1</th>\n",
       "      <th>SP500</th>\n",
       "      <th>GPDIC1</th>\n",
       "      <th>WEI</th>\n",
       "    </tr>\n",
       "  </thead>\n",
       "  <tbody>\n",
       "    <tr>\n",
       "      <th>FEDFUNDS</th>\n",
       "      <td>1.000000</td>\n",
       "      <td>0.560775</td>\n",
       "      <td>0.767813</td>\n",
       "      <td>0.509229</td>\n",
       "      <td>0.719878</td>\n",
       "      <td>0.213124</td>\n",
       "    </tr>\n",
       "    <tr>\n",
       "      <th>GDPPOT</th>\n",
       "      <td>0.560775</td>\n",
       "      <td>1.000000</td>\n",
       "      <td>0.901582</td>\n",
       "      <td>0.954605</td>\n",
       "      <td>0.824464</td>\n",
       "      <td>-0.530864</td>\n",
       "    </tr>\n",
       "    <tr>\n",
       "      <th>GDPC1</th>\n",
       "      <td>0.767813</td>\n",
       "      <td>0.901582</td>\n",
       "      <td>1.000000</td>\n",
       "      <td>0.848714</td>\n",
       "      <td>0.957177</td>\n",
       "      <td>-0.196146</td>\n",
       "    </tr>\n",
       "    <tr>\n",
       "      <th>SP500</th>\n",
       "      <td>0.509229</td>\n",
       "      <td>0.954605</td>\n",
       "      <td>0.848714</td>\n",
       "      <td>1.000000</td>\n",
       "      <td>0.814506</td>\n",
       "      <td>-0.416973</td>\n",
       "    </tr>\n",
       "    <tr>\n",
       "      <th>GPDIC1</th>\n",
       "      <td>0.719878</td>\n",
       "      <td>0.824464</td>\n",
       "      <td>0.957177</td>\n",
       "      <td>0.814506</td>\n",
       "      <td>1.000000</td>\n",
       "      <td>-0.073421</td>\n",
       "    </tr>\n",
       "    <tr>\n",
       "      <th>WEI</th>\n",
       "      <td>0.213124</td>\n",
       "      <td>-0.530864</td>\n",
       "      <td>-0.196146</td>\n",
       "      <td>-0.416973</td>\n",
       "      <td>-0.073421</td>\n",
       "      <td>1.000000</td>\n",
       "    </tr>\n",
       "  </tbody>\n",
       "</table>\n",
       "</div>"
      ],
      "text/plain": [
       "          FEDFUNDS    GDPPOT     GDPC1     SP500    GPDIC1       WEI\n",
       "FEDFUNDS  1.000000  0.560775  0.767813  0.509229  0.719878  0.213124\n",
       "GDPPOT    0.560775  1.000000  0.901582  0.954605  0.824464 -0.530864\n",
       "GDPC1     0.767813  0.901582  1.000000  0.848714  0.957177 -0.196146\n",
       "SP500     0.509229  0.954605  0.848714  1.000000  0.814506 -0.416973\n",
       "GPDIC1    0.719878  0.824464  0.957177  0.814506  1.000000 -0.073421\n",
       "WEI       0.213124 -0.530864 -0.196146 -0.416973 -0.073421  1.000000"
      ]
     },
     "execution_count": 107,
     "metadata": {},
     "output_type": "execute_result"
    }
   ],
   "source": [
    "df.corr()"
   ]
  },
  {
   "cell_type": "markdown",
   "metadata": {},
   "source": [
    "### 相關係數（correlation coefficient）\n",
    "越接近0，越不像線性，絕對值越接近1，越像線性  \n",
    "正數負數代表正相關與負相關，某一方上升時隨之上升，抑或是某一方上升時隨之下降"
   ]
  },
  {
   "cell_type": "code",
   "execution_count": 108,
   "metadata": {},
   "outputs": [
    {
     "data": {
      "text/plain": [
       "Index(['DATE', 'FEDFUNDS', 'GDPPOT', 'GDPC1', 'SP500', 'GPDIC1', 'WEI'], dtype='object')"
      ]
     },
     "execution_count": 108,
     "metadata": {},
     "output_type": "execute_result"
    }
   ],
   "source": [
    "#除了Date是日期以外，這邊都是一些投資的相關參考利率或指數\n",
    "df.columns"
   ]
  },
  {
   "cell_type": "code",
   "execution_count": 109,
   "metadata": {},
   "outputs": [],
   "source": [
    "#我們這次主要預測SP500的數值，目標是在知道FEDFUNDS, GDPPOT, GDPC1,GPDIC1, WEI這些經濟指標的情況下，預估能夠代表股票趨勢的SP500數值\n",
    "#被解釋: y\n",
    "y = df[\"SP500\"]\n",
    "#能夠解釋y的因素: x1,x2,x3,x4,x5\n",
    "x1 = df[\"FEDFUNDS\"]\n",
    "x2 = df[\"GDPPOT\"]\n",
    "x3 = df[\"GDPC1\"]\n",
    "x4 = df[\"GPDIC1\"]\n",
    "x5 = df[\"WEI\"]"
   ]
  },
  {
   "cell_type": "markdown",
   "metadata": {},
   "source": [
    "### 迴歸的第一步驟，絕對不是先讓他生成一條迴歸線\n",
    "我知道你們已經假設這五個東西，跟SP500一定有一定程度上的線性關係了  \n",
    "但請你們，先把這個想法放到一邊  \n",
    "#### 我們並不是神明，不知道這群數字是不是真的能夠解釋y\n",
    "如果其實x<sub>1</sub><sup>2</sup>才能夠解釋y呢？  \n",
    "如果x<sub>2</sub>跟y一點關係都沒有呢？  \n",
    "你必須要有強大的**領域知識**，才能夠評估哪些因素才能夠解釋y  \n",
    "比方說，你的身高，跟你的父母有關係，但跟你數學有沒有100分，相關性可能就低了  \n",
    "某一個指數，就是透過參考某一股票的變化而計算出來的，相關性可能就會高上許多  \n",
    "*啊我就第一天接觸這個領域，你要我去哪裡生領域知識？*  \n",
    "~~google阿~~...咳，或許你可以嘗試，把他的圖畫出來"
   ]
  },
  {
   "cell_type": "markdown",
   "metadata": {},
   "source": [
    "### 小測驗\n",
    "把y跟x<sub>1</sub>、y跟x<sub>2</sub>、y跟x<sub>3</sub>、y跟x<sub>4</sub>、y跟x<sub>5</sub>的分布圖，分別畫出來"
   ]
  },
  {
   "cell_type": "code",
   "execution_count": 110,
   "metadata": {},
   "outputs": [
    {
     "data": {
      "text/plain": [
       "<matplotlib.collections.PathCollection at 0x2afdb2ba198>"
      ]
     },
     "execution_count": 110,
     "metadata": {},
     "output_type": "execute_result"
    },
    {
     "data": {
      "image/png": "[encoded data removed]",
      "text/plain": [
       "<Figure size 432x288 with 1 Axes>"
      ]
     },
     "metadata": {
      "needs_background": "light"
     },
     "output_type": "display_data"
    }
   ],
   "source": [
    "plt.scatter(x1,y)"
   ]
  },
  {
   "cell_type": "code",
   "execution_count": 111,
   "metadata": {},
   "outputs": [
    {
     "data": {
      "text/plain": [
       "<matplotlib.collections.PathCollection at 0x2afdb3140f0>"
      ]
     },
     "execution_count": 111,
     "metadata": {},
     "output_type": "execute_result"
    },
    {
     "data": {
      "image/png": "[encoded data removed]",
      "text/plain": [
       "<Figure size 432x288 with 1 Axes>"
      ]
     },
     "metadata": {
      "needs_background": "light"
     },
     "output_type": "display_data"
    }
   ],
   "source": [
    "plt.scatter(x2,y)"
   ]
  },
  {
   "cell_type": "code",
   "execution_count": 112,
   "metadata": {},
   "outputs": [
    {
     "data": {
      "text/plain": [
       "<matplotlib.collections.PathCollection at 0x2afdb358e80>"
      ]
     },
     "execution_count": 112,
     "metadata": {},
     "output_type": "execute_result"
    },
    {
     "data": {
      "image/png": "[encoded data removed]",
      "text/plain": [
       "<Figure size 432x288 with 1 Axes>"
      ]
     },
     "metadata": {
      "needs_background": "light"
     },
     "output_type": "display_data"
    }
   ],
   "source": [
    "plt.scatter(x3,y)"
   ]
  },
  {
   "cell_type": "code",
   "execution_count": 113,
   "metadata": {},
   "outputs": [
    {
     "data": {
      "text/plain": [
       "<matplotlib.collections.PathCollection at 0x2afdb3b3e10>"
      ]
     },
     "execution_count": 113,
     "metadata": {},
     "output_type": "execute_result"
    },
    {
     "data": {
      "image/png": "[encoded data removed]",
      "text/plain": [
       "<Figure size 432x288 with 1 Axes>"
      ]
     },
     "metadata": {
      "needs_background": "light"
     },
     "output_type": "display_data"
    }
   ],
   "source": [
    "plt.scatter(x4,y)"
   ]
  },
  {
   "cell_type": "code",
   "execution_count": 114,
   "metadata": {},
   "outputs": [
    {
     "data": {
      "text/plain": [
       "<matplotlib.collections.PathCollection at 0x2afdc4606d8>"
      ]
     },
     "execution_count": 114,
     "metadata": {},
     "output_type": "execute_result"
    },
    {
     "name": "stderr",
     "output_type": "stream",
     "text": [
      "C:\\Users\\28743\\Anaconda3\\lib\\site-packages\\matplotlib\\backends\\backend_agg.py:211: RuntimeWarning: Glyph 8722 missing from current font.\n",
      "  font.set_text(s, 0.0, flags=flags)\n",
      "C:\\Users\\28743\\Anaconda3\\lib\\site-packages\\matplotlib\\backends\\backend_agg.py:180: RuntimeWarning: Glyph 8722 missing from current font.\n",
      "  font.set_text(s, 0, flags=flags)\n"
     ]
    },
    {
     "data": {
      "image/png": "[encoded data removed]",
      "text/plain": [
       "<Figure size 432x288 with 1 Axes>"
      ]
     },
     "metadata": {
      "needs_background": "light"
     },
     "output_type": "display_data"
    }
   ],
   "source": [
    "plt.scatter(x5,y)"
   ]
  },
  {
   "cell_type": "markdown",
   "metadata": {},
   "source": [
    "### 既然有五個因素，不如我們都加進去看看"
   ]
  },
  {
   "cell_type": "code",
   "execution_count": 115,
   "metadata": {},
   "outputs": [
    {
     "name": "stdout",
     "output_type": "stream",
     "text": [
      "                            OLS Regression Results                            \n",
      "==============================================================================\n",
      "Dep. Variable:                  SP500   R-squared:                       0.965\n",
      "Model:                            OLS   Adj. R-squared:                  0.959\n",
      "Method:                 Least Squares   F-statistic:                     151.0\n",
      "Date:                Sun, 05 Sep 2021   Prob (F-statistic):           7.48e-19\n",
      "Time:                        17:44:55   Log-Likelihood:                -199.58\n",
      "No. Observations:                  33   AIC:                             411.2\n",
      "Df Residuals:                      27   BIC:                             420.1\n",
      "Df Model:                           5                                         \n",
      "Covariance Type:            nonrobust                                         \n",
      "==============================================================================\n",
      "                 coef    std err          t      P>|t|      [0.025      0.975]\n",
      "------------------------------------------------------------------------------\n",
      "const      -1.375e+04   1276.102    -10.773      0.000   -1.64e+04   -1.11e+04\n",
      "x1           -94.2089     52.589     -1.791      0.084    -202.112      13.694\n",
      "x2             1.2358      0.109     11.303      0.000       1.011       1.460\n",
      "x3            -0.4560      0.132     -3.462      0.002      -0.726      -0.186\n",
      "x4             0.5909      0.345      1.712      0.098      -0.117       1.299\n",
      "x5            82.9908     16.981      4.887      0.000      48.149     117.832\n",
      "==============================================================================\n",
      "Omnibus:                        5.392   Durbin-Watson:                   1.590\n",
      "Prob(Omnibus):                  0.067   Jarque-Bera (JB):                3.854\n",
      "Skew:                          -0.769   Prob(JB):                        0.146\n",
      "Kurtosis:                       3.663   Cond. No.                     1.66e+06\n",
      "==============================================================================\n",
      "\n",
      "Warnings:\n",
      "[1] Standard Errors assume that the covariance matrix of the errors is correctly specified.\n",
      "[2] The condition number is large, 1.66e+06. This might indicate that there are\n",
      "strong multicollinearity or other numerical problems.\n"
     ]
    }
   ],
   "source": [
    "X1 = np.column_stack((x1,x2,x3,x4,x5))\n",
    "X1_constant = sm.add_constant(X1)\n",
    "results1 = sm.OLS(y,X1_constant).fit()\n",
    "print(results1.summary())"
   ]
  },
  {
   "cell_type": "markdown",
   "metadata": {},
   "source": [
    "### Warnings?\n",
    "*This might indicate that there are strong multicollinearity or other numerical problems.*  \n",
    "在使用迴歸分析的時候，有幾點是你要注意的：  \n",
    "- 模型假設：要你畫圖的原因之一。不是一定y=$\\beta$<sub>0</sub> + $\\beta$<sub>1</sub>x + ε，而是y=$\\beta$<sub>0</sub> + $\\beta$<sub>1</sub>x<sup>2</sup> + ε\n",
    "- 多重共線性(multicollinearity)：統計學上會以Cov(x<sub>i</sub>,x<sub>j</sub>)表示  \n",
    "  白話來說，有兩個因素彼此有一定關聯性\n",
    "- 因素不足以完全解釋y：基因、飲食、作息，以上都會影響身高，單用飲食去解釋身高，預測當然不夠精準"
   ]
  },
  {
   "cell_type": "code",
   "execution_count": 116,
   "metadata": {},
   "outputs": [
    {
     "name": "stdout",
     "output_type": "stream",
     "text": [
      "-3.638874521570732e-10\n",
      "10483.926938675382\n"
     ]
    }
   ],
   "source": [
    "y1_fitted = results1.fittedvalues\n",
    "e = y-y1_fitted #實際上的y跟我們預測出來的y之間的誤差\n",
    "\n",
    "print(np.mean(e))\n",
    "print(np.var(e))"
   ]
  },
  {
   "cell_type": "code",
   "execution_count": 117,
   "metadata": {},
   "outputs": [
    {
     "name": "stdout",
     "output_type": "stream",
     "text": [
      "                            OLS Regression Results                            \n",
      "==============================================================================\n",
      "Dep. Variable:                  SP500   R-squared:                       0.962\n",
      "Model:                            OLS   Adj. R-squared:                  0.956\n",
      "Method:                 Least Squares   F-statistic:                     175.9\n",
      "Date:                Sun, 05 Sep 2021   Prob (F-statistic):           2.10e-19\n",
      "Time:                        17:44:55   Log-Likelihood:                -201.28\n",
      "No. Observations:                  33   AIC:                             412.6\n",
      "Df Residuals:                      28   BIC:                             420.0\n",
      "Df Model:                           4                                         \n",
      "Covariance Type:            nonrobust                                         \n",
      "==============================================================================\n",
      "                 coef    std err          t      P>|t|      [0.025      0.975]\n",
      "------------------------------------------------------------------------------\n",
      "const      -1.517e+04   1000.385    -15.166      0.000   -1.72e+04   -1.31e+04\n",
      "x1          -132.2953     49.266     -2.685      0.012    -233.212     -31.379\n",
      "x2             1.2493      0.113     11.079      0.000       1.018       1.480\n",
      "x3            -0.2849      0.089     -3.212      0.003      -0.467      -0.103\n",
      "x4            95.4173     15.871      6.012      0.000      62.906     127.928\n",
      "==============================================================================\n",
      "Omnibus:                        2.433   Durbin-Watson:                   1.378\n",
      "Prob(Omnibus):                  0.296   Jarque-Bera (JB):                2.217\n",
      "Skew:                          -0.584   Prob(JB):                        0.330\n",
      "Kurtosis:                       2.500   Cond. No.                     1.25e+06\n",
      "==============================================================================\n",
      "\n",
      "Warnings:\n",
      "[1] Standard Errors assume that the covariance matrix of the errors is correctly specified.\n",
      "[2] The condition number is large, 1.25e+06. This might indicate that there are\n",
      "strong multicollinearity or other numerical problems.\n"
     ]
    }
   ],
   "source": [
    "#x2, x3, x4基本上都是GDP相關的東西，彼此的相關性很高，不如我們把x4拿掉看看\n",
    "X2 = np.column_stack((x1,x2,x3,x5))\n",
    "X2_constant = sm.add_constant(X2)\n",
    "results2 = sm.OLS(y,X2_constant).fit()\n",
    "print(results2.summary())"
   ]
  },
  {
   "cell_type": "code",
   "execution_count": 118,
   "metadata": {},
   "outputs": [
    {
     "name": "stdout",
     "output_type": "stream",
     "text": [
      "1.7754645699769203e-09\n",
      "11621.803656785654\n"
     ]
    }
   ],
   "source": [
    "y2_fitted = results2.fittedvalues\n",
    "e = y-y2_fitted #實際上的y跟我們預測出來的y之間的誤差\n",
    "\n",
    "print(np.mean(e))\n",
    "print(np.var(e))\n",
    "#在排除掉x4之後，誤差變小了"
   ]
  },
  {
   "cell_type": "code",
   "execution_count": 119,
   "metadata": {},
   "outputs": [
    {
     "name": "stdout",
     "output_type": "stream",
     "text": [
      "                            OLS Regression Results                            \n",
      "==============================================================================\n",
      "Dep. Variable:                  SP500   R-squared:                       0.912\n",
      "Model:                            OLS   Adj. R-squared:                  0.906\n",
      "Method:                 Least Squares   F-statistic:                     156.0\n",
      "Date:                Sun, 05 Sep 2021   Prob (F-statistic):           1.41e-16\n",
      "Time:                        17:44:55   Log-Likelihood:                -214.96\n",
      "No. Observations:                  33   AIC:                             435.9\n",
      "Df Residuals:                      30   BIC:                             440.4\n",
      "Df Model:                           2                                         \n",
      "Covariance Type:            nonrobust                                         \n",
      "==============================================================================\n",
      "                 coef    std err          t      P>|t|      [0.025      0.975]\n",
      "------------------------------------------------------------------------------\n",
      "const      -1.044e+04    840.672    -12.417      0.000   -1.22e+04   -8721.628\n",
      "x1           -26.4839     45.452     -0.583      0.564    -119.309      66.341\n",
      "x2             0.7092      0.047     14.942      0.000       0.612       0.806\n",
      "==============================================================================\n",
      "Omnibus:                        9.581   Durbin-Watson:                   1.507\n",
      "Prob(Omnibus):                  0.008   Jarque-Bera (JB):               12.275\n",
      "Skew:                          -0.655   Prob(JB):                      0.00216\n",
      "Kurtosis:                       5.686   Cond. No.                     5.11e+05\n",
      "==============================================================================\n",
      "\n",
      "Warnings:\n",
      "[1] Standard Errors assume that the covariance matrix of the errors is correctly specified.\n",
      "[2] The condition number is large, 5.11e+05. This might indicate that there are\n",
      "strong multicollinearity or other numerical problems.\n"
     ]
    }
   ],
   "source": [
    "#今天如果資料比較少，會發生什麼事情?\n",
    "X3 = np.column_stack((x1,x2))\n",
    "X3_constant = sm.add_constant(X3)\n",
    "results3 = sm.OLS(y,X3_constant).fit()\n",
    "print(results3.summary())"
   ]
  },
  {
   "cell_type": "code",
   "execution_count": 120,
   "metadata": {},
   "outputs": [
    {
     "name": "stdout",
     "output_type": "stream",
     "text": [
      "-8.201747429363119e-09\n",
      "26637.077713571798\n"
     ]
    }
   ],
   "source": [
    "y3_fitted = results3.fittedvalues\n",
    "e = y-y3_fitted #實際上的y跟我們預測出來的y之間的誤差\n",
    "\n",
    "print(np.mean(e))\n",
    "print(np.var(e))\n",
    "#誤差明顯上升，R-squared、Adj. R-squared都下降了，但因為x1, x2對於預測y來說有足夠影響力，所以並沒有下降太多"
   ]
  },
  {
   "cell_type": "markdown",
   "metadata": {},
   "source": [
    "### 小測驗\n",
    "試著只用x4、x5去預測y，並觀察誤差、R-squared、Adj. R-squared的變化"
   ]
  },
  {
   "cell_type": "code",
   "execution_count": 121,
   "metadata": {},
   "outputs": [
    {
     "name": "stdout",
     "output_type": "stream",
     "text": [
      "                            OLS Regression Results                            \n",
      "==============================================================================\n",
      "Dep. Variable:                  SP500   R-squared:                       0.792\n",
      "Model:                            OLS   Adj. R-squared:                  0.778\n",
      "Method:                 Least Squares   F-statistic:                     57.01\n",
      "Date:                Sun, 05 Sep 2021   Prob (F-statistic):           6.04e-11\n",
      "Time:                        17:44:55   Log-Likelihood:                -229.23\n",
      "No. Observations:                  33   AIC:                             464.5\n",
      "Df Residuals:                      30   BIC:                             468.9\n",
      "Df Model:                           2                                         \n",
      "Covariance Type:            nonrobust                                         \n",
      "==============================================================================\n",
      "                 coef    std err          t      P>|t|      [0.025      0.975]\n",
      "------------------------------------------------------------------------------\n",
      "const      -3257.3614    610.406     -5.336      0.000   -4503.977   -2010.745\n",
      "x1             1.8236      0.193      9.433      0.000       1.429       2.218\n",
      "x2           -77.1104     17.942     -4.298      0.000    -113.752     -40.469\n",
      "==============================================================================\n",
      "Omnibus:                        5.827   Durbin-Watson:                   2.077\n",
      "Prob(Omnibus):                  0.054   Jarque-Bera (JB):                5.470\n",
      "Skew:                          -0.426   Prob(JB):                       0.0649\n",
      "Kurtosis:                       4.803   Cond. No.                     4.18e+04\n",
      "==============================================================================\n",
      "\n",
      "Warnings:\n",
      "[1] Standard Errors assume that the covariance matrix of the errors is correctly specified.\n",
      "[2] The condition number is large, 4.18e+04. This might indicate that there are\n",
      "strong multicollinearity or other numerical problems.\n",
      "--------------------------------------------------\n",
      "mean of error: 4.719726293291332e-12\n",
      "variance of error: 63245.44510764983\n"
     ]
    }
   ],
   "source": [
    "#今天如果資料比較少，會發生什麼事情?\n",
    "X4 = np.column_stack((x4,x5))\n",
    "X4_constant = sm.add_constant(X4)\n",
    "results4 = sm.OLS(y,X4_constant).fit()\n",
    "print(results4.summary())\n",
    "y4_fitted = results4.fittedvalues\n",
    "e = y-y4_fitted #實際上的y跟我們預測出來的y之間的誤差\n",
    "print('-'*50)\n",
    "print('mean of error: '+ str(np.mean(e)))\n",
    "print('variance of error: ' + str(np.var(e)))"
   ]
  }
 ],
 "metadata": {
  "kernelspec": {
   "display_name": "Python 3 (ipykernel)",
   "language": "python",
   "name": "python3"
  },
  "language_info": {
   "codemirror_mode": {
    "name": "ipython",
    "version": 3
   },
   "file_extension": ".py",
   "mimetype": "text/x-python",
   "name": "python",
   "nbconvert_exporter": "python",
   "pygments_lexer": "ipython3",
   "version": "3.9.7"
  }
 },
 "nbformat": 4,
 "nbformat_minor": 2
}
